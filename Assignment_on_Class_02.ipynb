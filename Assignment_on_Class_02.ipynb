{
  "nbformat": 4,
  "nbformat_minor": 0,
  "metadata": {
    "colab": {
      "provenance": []
    },
    "kernelspec": {
      "name": "python3",
      "display_name": "Python 3"
    },
    "language_info": {
      "name": "python"
    }
  },
  "cells": [
    {
      "cell_type": "markdown",
      "source": [
        "1. Write a program that swaps the values of two variables.\n",
        "2. Write a program that calculates the area of a rectangle given its length and width.\n",
        "3. Write a program that converts temperature from Fahrenheit to Celsius.\n",
        "4. Write a program that calculates the volume of a sphere given its radius.\n",
        "5. Write a program that finds the average of three numbers."
      ],
      "metadata": {
        "id": "dsY2jMAzwi7A"
      }
    },
    {
      "cell_type": "code",
      "execution_count": 2,
      "metadata": {
        "colab": {
          "base_uri": "https://localhost:8080/"
        },
        "id": "zCh-JTOowOIU",
        "outputId": "70d28887-16dd-42ba-eb91-6c21c0953881"
      },
      "outputs": [
        {
          "output_type": "stream",
          "name": "stdout",
          "text": [
            "Swapped values: a = 10 , b = 5\n"
          ]
        }
      ],
      "source": [
        "# Program to swap the values of two variables\n",
        "a = 5\n",
        "b = 10\n",
        "a, b = b, a\n",
        "print(\"Swapped values: a =\", a, \", b =\", b)\n"
      ]
    },
    {
      "cell_type": "code",
      "source": [
        "# Program to calculate the area of a rectangle\n",
        "length = 7\n",
        "width = 3\n",
        "area = length * width\n",
        "print(\"Area of the rectangle:\", area)\n"
      ],
      "metadata": {
        "colab": {
          "base_uri": "https://localhost:8080/"
        },
        "id": "kg_ymXk9w2dg",
        "outputId": "7b4c41d4-e800-4712-bd8b-5002aa50719b"
      },
      "execution_count": 3,
      "outputs": [
        {
          "output_type": "stream",
          "name": "stdout",
          "text": [
            "Area of the rectangle: 21\n"
          ]
        }
      ]
    },
    {
      "cell_type": "code",
      "source": [
        "# Program to convert temperature from Fahrenheit to Celsius\n",
        "fahrenheit = 98.6\n",
        "celsius = (fahrenheit - 32) * 5/9\n",
        "print(\"Temperature in Celsius:\", celsius)\n"
      ],
      "metadata": {
        "colab": {
          "base_uri": "https://localhost:8080/"
        },
        "id": "jCbkW2AZxEQr",
        "outputId": "dfe03e68-e7fd-4b72-b481-6b48e4597749"
      },
      "execution_count": 4,
      "outputs": [
        {
          "output_type": "stream",
          "name": "stdout",
          "text": [
            "Temperature in Celsius: 37.0\n"
          ]
        }
      ]
    },
    {
      "cell_type": "code",
      "source": [
        "# Program to find the average of three numbers\n",
        "num1 = 4\n",
        "num2 = 8\n",
        "num3 = 15\n",
        "average = (num1 + num2 + num3) / 3\n",
        "print(\"Average of the three numbers:\", average)\n"
      ],
      "metadata": {
        "colab": {
          "base_uri": "https://localhost:8080/"
        },
        "id": "yGz2DLmZxJAM",
        "outputId": "9ff8cdc6-b56d-4704-ec23-e9cdf15f603f"
      },
      "execution_count": 5,
      "outputs": [
        {
          "output_type": "stream",
          "name": "stdout",
          "text": [
            "Average of the three numbers: 9.0\n"
          ]
        }
      ]
    },
    {
      "cell_type": "markdown",
      "source": [
        "6. Write a program that determines if a number is even or odd.\n",
        "7. Write a program that finds the maximum of three numbers.\n",
        "8. Write a program that determines if a year is a leap year or not.\n",
        "9. Write a program that determines if a number is positive, negative, or zero.\n",
        "10. Write a program that calculates the grade based on a given percentage."
      ],
      "metadata": {
        "id": "rhCwRosWxey7"
      }
    },
    {
      "cell_type": "code",
      "source": [
        "# Program to determine if a number is even or odd\n",
        "number = 7\n",
        "if number % 2 == 0:\n",
        "    print(\"Even\")\n",
        "else:\n",
        "    print(\"Odd\")\n"
      ],
      "metadata": {
        "colab": {
          "base_uri": "https://localhost:8080/"
        },
        "id": "45jckkRVxg1Q",
        "outputId": "4cbf3a6b-0538-4ff6-cc7a-75c72341a947"
      },
      "execution_count": 6,
      "outputs": [
        {
          "output_type": "stream",
          "name": "stdout",
          "text": [
            "Odd\n"
          ]
        }
      ]
    },
    {
      "cell_type": "code",
      "source": [
        "# Program to find the maximum of three numbers\n",
        "num1 = 10\n",
        "num2 = 25\n",
        "num3 = 15\n",
        "maximum = max(num1, num2, num3)\n",
        "print(\"Maximum of the three numbers:\", maximum)\n"
      ],
      "metadata": {
        "colab": {
          "base_uri": "https://localhost:8080/"
        },
        "id": "rLMKT8Vxxtlk",
        "outputId": "97433c0c-c5f1-41e8-aa90-19455ad047b2"
      },
      "execution_count": 7,
      "outputs": [
        {
          "output_type": "stream",
          "name": "stdout",
          "text": [
            "Maximum of the three numbers: 25\n"
          ]
        }
      ]
    },
    {
      "cell_type": "code",
      "source": [
        "# Program to determine if a year is a leap year or not\n",
        "year = 2024\n",
        "if (year % 4 == 0 and year % 100 != 0) or (year % 400 == 0):\n",
        "    print(\"Leap Year\")\n",
        "else:\n",
        "    print(\"Not a Leap Year\")\n"
      ],
      "metadata": {
        "colab": {
          "base_uri": "https://localhost:8080/"
        },
        "id": "z_6upk3tyHpt",
        "outputId": "115ea033-7b64-48e5-cd3c-d0b1e152f82e"
      },
      "execution_count": 8,
      "outputs": [
        {
          "output_type": "stream",
          "name": "stdout",
          "text": [
            "Leap Year\n"
          ]
        }
      ]
    },
    {
      "cell_type": "code",
      "source": [
        "# Program to determine if a number is positive, negative, or zero\n",
        "number = -5\n",
        "if number > 0:\n",
        "    print(\"Positive\")\n",
        "elif number < 0:\n",
        "    print(\"Negative\")\n",
        "else:\n",
        "    print(\"Zero\")\n"
      ],
      "metadata": {
        "colab": {
          "base_uri": "https://localhost:8080/"
        },
        "id": "IF7pF6rzygZL",
        "outputId": "770d809d-1a6e-4d17-e1c5-191f0ff6552f"
      },
      "execution_count": 9,
      "outputs": [
        {
          "output_type": "stream",
          "name": "stdout",
          "text": [
            "Negative\n"
          ]
        }
      ]
    },
    {
      "cell_type": "code",
      "source": [
        "# Program to calculate the grade based on a given percentage\n",
        "percentage = 85\n",
        "if percentage >= 90:\n",
        "    grade = \"A\"\n",
        "elif percentage >= 80:\n",
        "    grade = \"B\"\n",
        "elif percentage >= 70:\n",
        "    grade = \"C\"\n",
        "elif percentage >= 60:\n",
        "    grade = \"D\"\n",
        "else:\n",
        "    grade = \"F\"\n",
        "\n",
        "print(\"Grade:\", grade)\n"
      ],
      "metadata": {
        "colab": {
          "base_uri": "https://localhost:8080/"
        },
        "id": "0hydkgnGylqo",
        "outputId": "3a184a28-e431-40c4-fe05-79e33b667e72"
      },
      "execution_count": 10,
      "outputs": [
        {
          "output_type": "stream",
          "name": "stdout",
          "text": [
            "Grade: B\n"
          ]
        }
      ]
    },
    {
      "cell_type": "markdown",
      "source": [
        "11. Write a program that prints the first `n` natural numbers.\n",
        "12. Write a program that calculates the factorial of a number.\n",
        "13. Write a program that generates a Fibonacci sequence of length `n`.\n",
        "14. Write a program that checks if a given number is prime or not.\n",
        "15. Write a program that prints the multiplication table of a given number."
      ],
      "metadata": {
        "id": "k3fvhAelzTWq"
      }
    },
    {
      "cell_type": "code",
      "source": [
        "# Program to print the first `n` natural numbers\n",
        "n = 10\n",
        "for i in range(1, n + 1):\n",
        "    print(i, end=\" \")\n"
      ],
      "metadata": {
        "colab": {
          "base_uri": "https://localhost:8080/"
        },
        "id": "fAPIW1tlzUrF",
        "outputId": "45d15c34-9fb5-4866-fc80-c09661e44253"
      },
      "execution_count": 11,
      "outputs": [
        {
          "output_type": "stream",
          "name": "stdout",
          "text": [
            "1 2 3 4 5 6 7 8 9 10 "
          ]
        }
      ]
    },
    {
      "cell_type": "code",
      "source": [
        "# Program to calculate the factorial of a number\n",
        "number = 5\n",
        "factorial = 1\n",
        "for i in range(1, number + 1):\n",
        "    factorial *= i\n",
        "print(\"Factorial of\", number, \"is\", factorial)\n"
      ],
      "metadata": {
        "colab": {
          "base_uri": "https://localhost:8080/"
        },
        "id": "Y3e6Tefpzqb_",
        "outputId": "bea8753e-d19b-4161-be5e-ee19a58d8001"
      },
      "execution_count": 12,
      "outputs": [
        {
          "output_type": "stream",
          "name": "stdout",
          "text": [
            "Factorial of 5 is 120\n"
          ]
        }
      ]
    },
    {
      "cell_type": "code",
      "source": [
        "# Program to generate a Fibonacci sequence of length `n`\n",
        "n = 7\n",
        "fibonacci_sequence = [0, 1]\n",
        "for i in range(2, n):\n",
        "    next_value = fibonacci_sequence[-1] + fibonacci_sequence[-2]\n",
        "    fibonacci_sequence.append(next_value)\n",
        "print(\"Fibonacci sequence:\", fibonacci_sequence)\n"
      ],
      "metadata": {
        "colab": {
          "base_uri": "https://localhost:8080/"
        },
        "id": "iOaTgRWczxa4",
        "outputId": "4cc9524a-d8af-426a-ab21-2cbe57e05a7f"
      },
      "execution_count": 13,
      "outputs": [
        {
          "output_type": "stream",
          "name": "stdout",
          "text": [
            "Fibonacci sequence: [0, 1, 1, 2, 3, 5, 8]\n"
          ]
        }
      ]
    },
    {
      "cell_type": "code",
      "source": [
        "# Program to check if a given number is prime or not\n",
        "number = 11\n",
        "is_prime = True\n",
        "if number < 2:\n",
        "    is_prime = False\n",
        "else:\n",
        "    for i in range(2, int(number**0.5) + 1):\n",
        "        if number % i == 0:\n",
        "            is_prime = False\n",
        "            break\n",
        "if is_prime:\n",
        "    print(number, \"is Prime\")\n",
        "else:\n",
        "    print(number, \"is Not Prime\")\n"
      ],
      "metadata": {
        "colab": {
          "base_uri": "https://localhost:8080/"
        },
        "id": "TByXCflm0DOz",
        "outputId": "8862880c-fe62-46f1-d867-a695f76bc950"
      },
      "execution_count": 14,
      "outputs": [
        {
          "output_type": "stream",
          "name": "stdout",
          "text": [
            "11 is Prime\n"
          ]
        }
      ]
    },
    {
      "cell_type": "code",
      "source": [
        "# Program to print the multiplication table of a given number\n",
        "number = 6\n",
        "for i in range(1, 11):\n",
        "    print(number, \"x\", i, \"=\", number * i)\n"
      ],
      "metadata": {
        "colab": {
          "base_uri": "https://localhost:8080/"
        },
        "id": "Gz30mQk30HUP",
        "outputId": "36163050-5055-42ed-e18c-112df4195058"
      },
      "execution_count": 15,
      "outputs": [
        {
          "output_type": "stream",
          "name": "stdout",
          "text": [
            "6 x 1 = 6\n",
            "6 x 2 = 12\n",
            "6 x 3 = 18\n",
            "6 x 4 = 24\n",
            "6 x 5 = 30\n",
            "6 x 6 = 36\n",
            "6 x 7 = 42\n",
            "6 x 8 = 48\n",
            "6 x 9 = 54\n",
            "6 x 10 = 60\n"
          ]
        }
      ]
    },
    {
      "cell_type": "markdown",
      "source": [
        "16. Write a program that finds the sum of all even numbers between 1 and `n`.\n",
        "17. Write a program that reverses a given number.\n",
        "18. Write a program that checks if a given string, is a palindrome.\n",
        "19. Write a program that generates a random number and allows the user to guess it.\n",
        "20. Write a program that finds the greatest common divisor (GCD) of two numbers."
      ],
      "metadata": {
        "id": "sBTZodDv0dxN"
      }
    },
    {
      "cell_type": "code",
      "source": [
        "n = int(input(\"Enter a number: \"))\n",
        "sum_of_evens = 0\n",
        "\n",
        "for i in range(1, n + 1):\n",
        "    if i % 2 == 0:\n",
        "        sum_of_evens += i\n",
        "\n",
        "print(\"Sum of all even numbers between 1 and\", n, \"is:\", sum_of_evens)\n"
      ],
      "metadata": {
        "colab": {
          "base_uri": "https://localhost:8080/"
        },
        "id": "CdXRt5hb0euV",
        "outputId": "3f3736f2-d0ef-4564-978d-3a384b98407e"
      },
      "execution_count": 16,
      "outputs": [
        {
          "output_type": "stream",
          "name": "stdout",
          "text": [
            "Enter a number: 10\n",
            "Sum of all even numbers between 1 and 10 is: 30\n"
          ]
        }
      ]
    },
    {
      "cell_type": "code",
      "source": [
        "n = int(input(\"Enter a number: \"))\n",
        "reversed_number = 0\n",
        "\n",
        "while n > 0:\n",
        "    digit = n % 10\n",
        "    reversed_number = reversed_number * 10 + digit\n",
        "    n = n // 10\n",
        "\n",
        "print(\"Reversed number is:\", reversed_number)\n"
      ],
      "metadata": {
        "colab": {
          "base_uri": "https://localhost:8080/"
        },
        "id": "0IGHlb663IEl",
        "outputId": "fe975c8b-99c9-4908-817c-d7da1fa49a9e"
      },
      "execution_count": 17,
      "outputs": [
        {
          "output_type": "stream",
          "name": "stdout",
          "text": [
            "Enter a number: 1523\n",
            "Reversed number is: 3251\n"
          ]
        }
      ]
    },
    {
      "cell_type": "code",
      "source": [
        "s = input(\"Enter a string: \")\n",
        "is_palindrome = True\n",
        "\n",
        "for i in range(len(s) // 2):\n",
        "    if s[i] != s[-(i + 1)]:\n",
        "        is_palindrome = False\n",
        "        break\n",
        "\n",
        "if is_palindrome:\n",
        "    print(s, \"is a palindrome.\")\n",
        "else:\n",
        "    print(s, \"is not a palindrome.\")\n"
      ],
      "metadata": {
        "colab": {
          "base_uri": "https://localhost:8080/"
        },
        "id": "zX4GzhX-3V5A",
        "outputId": "2501d1e8-d737-455a-fa0a-652dd6ae6cab"
      },
      "execution_count": 18,
      "outputs": [
        {
          "output_type": "stream",
          "name": "stdout",
          "text": [
            "Enter a string: abba\n",
            "abba is a palindrome.\n"
          ]
        }
      ]
    },
    {
      "cell_type": "code",
      "source": [
        "import random\n",
        "\n",
        "number = random.randint(1, 3)\n",
        "attempts = 0\n",
        "guessed = False\n",
        "\n",
        "while not guessed:\n",
        "    guess = int(input(\"Guess the number (between 1 and 3): \"))\n",
        "    attempts += 1\n",
        "\n",
        "    if guess < number:\n",
        "        print(\"Too low!\")\n",
        "    elif guess > number:\n",
        "        print(\"Too high!\")\n",
        "    else:\n",
        "        print(\"Congratulations! You guessed the number in\", attempts, \"attempts.\")\n",
        "        guessed = True\n"
      ],
      "metadata": {
        "colab": {
          "base_uri": "https://localhost:8080/"
        },
        "id": "2kqRPrql3wXS",
        "outputId": "336b4bd9-1435-43e3-ad49-b38e781cbc62"
      },
      "execution_count": 21,
      "outputs": [
        {
          "output_type": "stream",
          "name": "stdout",
          "text": [
            "Guess the number (between 1 and 3): 2\n",
            "Congratulations! You guessed the number in 1 attempts.\n"
          ]
        }
      ]
    },
    {
      "cell_type": "code",
      "source": [
        "a = int(input(\"Enter the first number: \"))\n",
        "b = int(input(\"Enter the second number: \"))\n",
        "\n",
        "while b != 0:\n",
        "    remainder = a % b\n",
        "    a = b\n",
        "    b = remainder\n",
        "\n",
        "gcd = a\n",
        "print(\"The GCD of the two numbers is:\", gcd)"
      ],
      "metadata": {
        "colab": {
          "base_uri": "https://localhost:8080/"
        },
        "id": "veN425eS4Q9u",
        "outputId": "63a0768d-75cd-4173-ce6a-eb0c660eb9f2"
      },
      "execution_count": 24,
      "outputs": [
        {
          "output_type": "stream",
          "name": "stdout",
          "text": [
            "Enter the first number: 30\n",
            "Enter the second number: 20\n",
            "The GCD of the two numbers is: 10\n"
          ]
        }
      ]
    }
  ]
}